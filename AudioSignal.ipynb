{
  "nbformat": 4,
  "nbformat_minor": 0,
  "metadata": {
    "colab": {
      "provenance": [],
      "authorship_tag": "ABX9TyN30fCCzDILhMGhcqrNi7QK",
      "include_colab_link": true
    },
    "kernelspec": {
      "name": "python3",
      "display_name": "Python 3"
    },
    "language_info": {
      "name": "python"
    }
  },
  "cells": [
    {
      "cell_type": "markdown",
      "metadata": {
        "id": "view-in-github",
        "colab_type": "text"
      },
      "source": [
        "<a href=\"https://colab.research.google.com/github/mkdib1/University_PWs/blob/main/AudioSignal.ipynb\" target=\"_parent\"><img src=\"https://colab.research.google.com/assets/colab-badge.svg\" alt=\"Open In Colab\"/></a>"
      ]
    },
    {
      "cell_type": "code",
      "execution_count": null,
      "metadata": {
        "id": "u4jlc6h3zRr5"
      },
      "outputs": [],
      "source": [
        "import zipfile\n",
        "import os\n",
        "from google.colab import drive\n",
        "from shutil import copyfile\n",
        "import shutil\n",
        "import tarfile\n",
        "import IPython.display as ipd\n",
        "from matplotlib import pyplot as plt\n",
        "from scipy.io import wavfile as wav\n",
        "from scipy.fft import rfft, fft, irfft, ifft, fftfreq\n",
        "from scipy.signal import fftconvolve\n",
        "import numpy as np"
      ]
    },
    {
      "cell_type": "code",
      "source": [
        "from google.colab import drive\n",
        "drive.mount('/content/drive')"
      ],
      "metadata": {
        "id": "Go5MuDXuR1aB"
      },
      "execution_count": null,
      "outputs": []
    },
    {
      "cell_type": "code",
      "source": [
        "drive.mount('/content/drive')\n",
        "tar_path = '/content/drive/MyDrive/recordings.tar'"
      ],
      "metadata": {
        "colab": {
          "base_uri": "https://localhost:8080/"
        },
        "id": "BOv2hM7u06kF",
        "outputId": "d66526f0-e298-429d-bb62-363943e10735"
      },
      "execution_count": null,
      "outputs": [
        {
          "output_type": "stream",
          "name": "stdout",
          "text": [
            "Drive already mounted at /content/drive; to attempt to forcibly remount, call drive.mount(\"/content/drive\", force_remount=True).\n"
          ]
        }
      ]
    },
    {
      "cell_type": "code",
      "source": [
        "with tarfile.open(tar_path, 'r') as tar_ref:\n",
        "    tar_ref.extractall('/content/drive/MyDrive/audio_unzipped')"
      ],
      "metadata": {
        "id": "ZSTVK65V1FQf"
      },
      "execution_count": null,
      "outputs": []
    },
    {
      "cell_type": "code",
      "source": [
        "# shutil.rmtree('/content/drive/MyDrive/audio_unzipped')"
      ],
      "metadata": {
        "id": "ZUJc-Wm0yY5O"
      },
      "execution_count": null,
      "outputs": []
    },
    {
      "cell_type": "markdown",
      "source": [
        "## Basic i/o"
      ],
      "metadata": {
        "id": "R2VAhBxT3N7I"
      }
    },
    {
      "cell_type": "markdown",
      "source": [
        "Vediamo come leggere un file .wav (audio)"
      ],
      "metadata": {
        "id": "tD0yZvTb3R15"
      }
    },
    {
      "cell_type": "code",
      "source": [
        "zero_jackson_rate, zero_jackson = wav.read(\"/content/drive/MyDrive/audio_unzipped/recordings/0_jackson_0.wav\")\n",
        "\n",
        "# wav.read() restituisce 2 parametri: il primo è la Freq di campionamento (scalare), il secondo è la traccia audio stessa"
      ],
      "metadata": {
        "id": "Iti_Dh3h2G5c"
      },
      "execution_count": null,
      "outputs": []
    },
    {
      "cell_type": "code",
      "source": [
        "zero_jackson_rate # isepzionando il primo parametro otteniamo lo scalare 8000. Significa che per ogni secondo di voce sono stati raccolti 8000 campioni"
      ],
      "metadata": {
        "id": "4NWttp7u4SRo"
      },
      "execution_count": null,
      "outputs": []
    },
    {
      "cell_type": "code",
      "source": [
        "zero_jackson"
      ],
      "metadata": {
        "id": "xb9t6C9K5HP7"
      },
      "execution_count": null,
      "outputs": []
    },
    {
      "cell_type": "code",
      "source": [
        "# il secondo è codificato sotto forma di array numpy, e pertanto sarà una lista di numeri reali\n",
        "# potremmo essere interessati a vederne la shape\n",
        "zero_jackson.shape  # otteniamo che l'array contiene 5148 numeri. L'array in qst caso è monodimensionale. Solitamente le tracce audio sono codificati in shape N x 2 , dove 2\n",
        "                    # indica il doppio canale orecchio dx/ orecchio sx\n"
      ],
      "metadata": {
        "id": "kfzOmwbk4y7h"
      },
      "execution_count": null,
      "outputs": []
    },
    {
      "cell_type": "markdown",
      "source": [
        "Riproduciamo ora la traccia"
      ],
      "metadata": {
        "id": "ds_NNlPv55Wr"
      }
    },
    {
      "cell_type": "code",
      "source": [
        "ipd.Audio(zero_jackson, rate=zero_jackson_rate) # per farlo usiamo ipd.Audio, cui si passano come parametri la traccia stessa e\n",
        "                                                # il sample rate"
      ],
      "metadata": {
        "id": "Buh7hm8b567x"
      },
      "execution_count": null,
      "outputs": []
    },
    {
      "cell_type": "markdown",
      "source": [
        "Proviamo ora a riprodurre la traccia con sample_rate  dimezzato"
      ],
      "metadata": {
        "id": "mdz4D2a265uA"
      }
    },
    {
      "cell_type": "code",
      "source": [
        "ipd.Audio(zero_jackson, rate=zero_jackson_rate*0.5) # stiamo dicendo: \"distribuisci 5148/2 campioni in un secondo di traccia audio\""
      ],
      "metadata": {
        "id": "n7_lshRa6-IH"
      },
      "execution_count": null,
      "outputs": []
    },
    {
      "cell_type": "markdown",
      "source": [
        "La seguente riga di codice serve per scrivere la traccia audio, eventualmente manipolata.\n",
        "Per farlo passiamo come parametri:\n",
        "* il path\n",
        "* sample_rate desiderato\n",
        "* il nome del file originale"
      ],
      "metadata": {
        "id": "t4nF1wLD74Xi"
      }
    },
    {
      "cell_type": "code",
      "source": [
        "# wav.write(\"/content/drive/MyDrive\", rate=zero_jackson_rate, data=zero_jackson)"
      ],
      "metadata": {
        "id": "z_Yl1Xli7mmK"
      },
      "execution_count": null,
      "outputs": []
    },
    {
      "cell_type": "markdown",
      "source": [
        "## Plot"
      ],
      "metadata": {
        "id": "1WolOAiO8U_N"
      }
    },
    {
      "cell_type": "code",
      "source": [
        "plt.plot(zero_jackson); plt.show() # qst è il grafico dell'audio, utilizzando come variabili il numero dei campioni (asse x)\n",
        "                                  # e l'ampiezza del segnale (asse y)\n",
        "                                  # Possiamo notare che in effetti lungo l'asse x i valori sono nel range [0,5000]"
      ],
      "metadata": {
        "id": "oZqT67Ws8K2B"
      },
      "execution_count": null,
      "outputs": []
    },
    {
      "cell_type": "code",
      "source": [
        "# Volendo tuttavia apprezzare il dettaglio, chiediamo di stampare solo il range [0,500]\n",
        "plt.plot(zero_jackson[0:500]); plt.show()"
      ],
      "metadata": {
        "id": "FeNk_Ewk9Y_f"
      },
      "execution_count": null,
      "outputs": []
    },
    {
      "cell_type": "markdown",
      "source": [
        "Come si può notare, l'onda ottenuta è **complessa**, nel senso che è composta da tante componenti che fanno sì che si sviluppi lungo valori diversi per ogni timestamp espressi in una distanza minima in termini di sample_rate (asse x)"
      ],
      "metadata": {
        "id": "-1C_8670_Eos"
      }
    },
    {
      "cell_type": "markdown",
      "source": [
        "Adesso proviamo con un'altra traccia"
      ],
      "metadata": {
        "id": "JUfangsG-R3C"
      }
    },
    {
      "cell_type": "code",
      "source": [
        "one_jackson_rate, one_jackson = wav.read(\"/content/drive/MyDrive/audio_unzipped/recordings/1_jackson_1.wav\")\n",
        "ipd.Audio(one_jackson, rate=one_jackson_rate)"
      ],
      "metadata": {
        "id": "0QUs9E3q-UNG"
      },
      "execution_count": null,
      "outputs": []
    },
    {
      "cell_type": "code",
      "source": [
        "plt.plot(one_jackson[0:500]); plt.show()"
      ],
      "metadata": {
        "id": "Bkbv-vgG-3lM"
      },
      "execution_count": null,
      "outputs": []
    },
    {
      "cell_type": "markdown",
      "source": [
        "A livello di complessità, è uguale alla precedente più o meno. Possiamo notaer che i valori si sviluppano perlopiù in picchi discendenti verso valori bassi"
      ],
      "metadata": {
        "id": "wcn9H3Ye_ZO7"
      }
    },
    {
      "cell_type": "markdown",
      "source": [
        "# ANALISI DI FOURIER"
      ],
      "metadata": {
        "id": "D0O1rpDB_osA"
      }
    },
    {
      "cell_type": "markdown",
      "source": [
        "Come visto a lezione, si tratta del cambio di **Dominio** di rappresentazione di un segnale, il segnale audio, da quello del tempo a quello delle frequenze.\n",
        "\n",
        "Sebbene lungo l'asse x non ci sia il tempo ma la sequenza di campioni, possiamo cmq approssimarla ad una linea temporale di un campione dopo l'altro.\n",
        "\n",
        "Con l'applicazione della trasformata di Fourier, lungo l'asse x avrò le frequenze di ciascuna componente del segnale."
      ],
      "metadata": {
        "id": "1cNIWKv-_rTT"
      }
    },
    {
      "cell_type": "code",
      "source": [
        "# Applicazione della trasformata di Fourier\n",
        "zero_jackson_fft = fft(zero_jackson) # passiamo come parametro la traccia salvata"
      ],
      "metadata": {
        "id": "6jazpX5H_n_d"
      },
      "execution_count": null,
      "outputs": []
    },
    {
      "cell_type": "code",
      "source": [
        "zero_jackson_fft.shape"
      ],
      "metadata": {
        "id": "o6-OtOK3_nGW"
      },
      "execution_count": null,
      "outputs": []
    },
    {
      "cell_type": "markdown",
      "source": [
        "Studiandone la forma, vediamo come la fft non ha alterato la complessità del segnale giacchè la shape è rimasta uguale all'originale (abbiamo sempre 5148 componenti)"
      ],
      "metadata": {
        "id": "j12wHGtODvzD"
      }
    },
    {
      "cell_type": "code",
      "source": [
        "plt.plot(zero_jackson_fft)"
      ],
      "metadata": {
        "id": "s70n94j-DvZN"
      },
      "execution_count": null,
      "outputs": []
    },
    {
      "cell_type": "markdown",
      "source": [
        "Notiamo come la forma sia completamente diversa dalla traccia originale.\n",
        "Tuttavia ci manca un passaggio"
      ],
      "metadata": {
        "id": "sB-5nm5oEgge"
      }
    },
    {
      "cell_type": "code",
      "source": [
        "# Salviamoci un parametro per il plot, che sarebbero le \"giuste label\" da dare all'asse x.\n",
        "# Notiamo come nel plot precedente, lungo l'asse x abbiamo ancora la sequenza dei campioni e non le frequenze\n",
        "\n",
        "zero_jackson_freqs = fftfreq(len(zero_jackson), 1.0/zero_jackson_rate) # 'fftfreq' restituisce un vettore che useremo come label dell'asse x, costruita con la\n",
        "                                                                      # lunghezza della traccia, e l'inverso del sample_rate, cioè quanti secondi sono allocati per ciascun campione\n",
        "\n",
        "plt.plot(zero_jackson_freqs, zero_jackson_fft)  # la misura appena calcolata la si può usare come parametro aggiuntivo del plot\n"
      ],
      "metadata": {
        "id": "qL0h-5g6Ek9c"
      },
      "execution_count": null,
      "outputs": []
    },
    {
      "cell_type": "markdown",
      "source": [
        "Adesso abbiamo ottenuto che lungo l'asse x ci sono le frequenze, e quindi il plot ha rispecchiato il nostro dato. Nello specifico, sono state identificate le basse frequenze al centro."
      ],
      "metadata": {
        "id": "Qhs3yYKQGObd"
      }
    },
    {
      "cell_type": "markdown",
      "source": [
        "D'ora in poi però, ci serviremo della func **rfft** per convertire i dati sul dominio delle frequenze.\n",
        "Sarebbe una sorta di scorciatoia."
      ],
      "metadata": {
        "id": "LuG9kh2Z4tPh"
      }
    },
    {
      "cell_type": "code",
      "source": [
        "zero_jackson_rfft = rfft(zero_jackson)\n",
        "plt.plot(zero_jackson_rfft)"
      ],
      "metadata": {
        "id": "pCy95KBgGN9F"
      },
      "execution_count": null,
      "outputs": []
    },
    {
      "cell_type": "markdown",
      "source": [
        "Come si nota, il grafico è esattamente la metà del grafico precedente, con sole frequenze positive (è stato eliminato il semi-asse negativo di x)."
      ],
      "metadata": {
        "id": "JFOyTz-F54LP"
      }
    },
    {
      "cell_type": "markdown",
      "source": [
        "## Ricostruzione dell'onda trasformata con Fourier"
      ],
      "metadata": {
        "id": "KyfzoiXo6W6r"
      }
    },
    {
      "cell_type": "markdown",
      "source": [
        "Come da teoria, sappiamo che l'analisi di Fourier serve a decomporre l'onda originale che risulta complessa, in componenti più semplici.\n",
        "Ad esempio potremmo dire che il grafico precedente è stato ottenuto dalla sovrapposizione di un primo tracciato sinusoidale ad una certa frequenza d'onda, cui si aggiunge in sovrapposizione un tracciato più semplice, poi un'altra sinusoide complessa e così via (vedi quaderno).\n",
        "\n",
        "Andiamo pertanto a plottare il grafico in zoom differenti per osservare le componenti dell'onda."
      ],
      "metadata": {
        "id": "eT7HTMut6ci1"
      }
    },
    {
      "cell_type": "code",
      "source": [
        "plt.plot(zero_jackson_rfft[0:100]); plt.show()"
      ],
      "metadata": {
        "id": "xXwrSatm6MHA"
      },
      "execution_count": null,
      "outputs": []
    },
    {
      "cell_type": "code",
      "source": [
        "plt.plot(zero_jackson_rfft[200:300]); plt.show()"
      ],
      "metadata": {
        "id": "4dFwQRdg7iCa"
      },
      "execution_count": null,
      "outputs": []
    },
    {
      "cell_type": "code",
      "source": [
        "plt.plot(zero_jackson_rfft[1000:1050]); plt.show()"
      ],
      "metadata": {
        "id": "iVLmxSJR7ptv"
      },
      "execution_count": null,
      "outputs": []
    },
    {
      "cell_type": "markdown",
      "source": [
        "## Low pass / High pass filtering"
      ],
      "metadata": {
        "id": "QGNTGndV8PKD"
      }
    },
    {
      "cell_type": "code",
      "source": [
        "# Ripartiamo sempre dalla traccia mappata nel dominio delle frequenze.\n",
        "# Quello che vogliamo fare è eliminare ad es. le basse frequenze dal segnale\n",
        "# originale.\n",
        "# Ristampiamo quindi il segnale\n",
        "plt.plot(zero_jackson_rfft)\n",
        "\n",
        "# Di questo segnale vogliamo \"salvare\" solo le basse frequenze, ovvero,\n",
        "# dato che siamo nel dominio delle frequenze per cui in asse x abbiamo le\n",
        "# freqs ordinate, il tutto di traduce nel voler \"salvare\" i primi n-valori.\n",
        "# In effetti notiamo che a partire da n>500, si ottengono datapoints trascurabili"
      ],
      "metadata": {
        "id": "ulIr5z298R8b"
      },
      "execution_count": null,
      "outputs": []
    },
    {
      "cell_type": "markdown",
      "source": [
        "Costruiamo quindi il filtro. Lo facciamo manualmente.\n",
        "Per farlo, istanzieremo un vettore numpy della stessa len() di len(segnale)\n",
        "il quale avrà valore == 1 fino ad un certo n, e poi avrà valori == 0."
      ],
      "metadata": {
        "id": "gloTA7mTdgAK"
      }
    },
    {
      "cell_type": "code",
      "source": [
        "low_pass_filter = np.zeros(len(zero_jackson_rfft))\n",
        "low_pass_filter[:500] = 1\n",
        "plt.plot(low_pass_filter)"
      ],
      "metadata": {
        "id": "ECFH3kb3cZ4O"
      },
      "execution_count": null,
      "outputs": []
    },
    {
      "cell_type": "markdown",
      "source": [
        "Quella plottata è la forma del nostro filtro.\n",
        "Adesso usiamolo, mediante prodotto vettoriale con il nostro segnale"
      ],
      "metadata": {
        "id": "GYvXnTu6ePwk"
      }
    },
    {
      "cell_type": "code",
      "source": [
        "zero_jackson_filtered = zero_jackson_rfft * low_pass_filter\n",
        "plt.plot(zero_jackson_filtered)"
      ],
      "metadata": {
        "id": "fRpYNUVbeVk1"
      },
      "execution_count": null,
      "outputs": []
    },
    {
      "cell_type": "markdown",
      "source": [
        "Abbiamo annullato tutte le freqs > 500."
      ],
      "metadata": {
        "id": "rwZcTMOXerYg"
      }
    },
    {
      "cell_type": "markdown",
      "source": [
        "## From FREQS to TIME"
      ],
      "metadata": {
        "id": "F1M33derev-N"
      }
    },
    {
      "cell_type": "markdown",
      "source": [
        "Adesso, prendiamo il segnale filtrato e ritorniamo nel dominio del tempo, e riascoltiamo il nuovo segnale.\n",
        "In altre parole, bisogna applicare la **trasformata inversa**."
      ],
      "metadata": {
        "id": "VdZcf4joe4rh"
      }
    },
    {
      "cell_type": "code",
      "source": [
        "# Usiamo 'irfft'\n",
        "zero_jackson_low_filtered_time = irfft(zero_jackson_filtered)\n",
        "ipd.Audio(zero_jackson_low_filtered_time, rate=zero_jackson_rate)\n"
      ],
      "metadata": {
        "id": "HFKIE0DFemud"
      },
      "execution_count": null,
      "outputs": []
    },
    {
      "cell_type": "code",
      "source": [
        "# Confrontiamolo con il segnale originale\n",
        "ipd.Audio(zero_jackson, rate=zero_jackson_rate)"
      ],
      "metadata": {
        "id": "7CIHPISWgO6c"
      },
      "execution_count": null,
      "outputs": []
    },
    {
      "cell_type": "markdown",
      "source": [
        "Si nota una compressione dei dati (abbiamo annulato il 70% dei dati).\n",
        "Il suono sembra \"ovattato\".\n",
        "L'applicazione della FFT è proprio la compressione del dato, per alleggerire la memoria.\n",
        "La cosa interessante è che l'info,sotto certe condizioni, rimane preservata, nel senso che si riesce ancora a percepire che si sta pronunciando la parola \"zero\".\n",
        "Se noi avessimo compresso l'info con un filtro troncando ai primi 500 valori dell'asse-x nel dominio del tempo, stavamo applicando un filtro temporale e pertanto l'effetto sarebbe stato di ascoltare solo le prime lettere del segnale audio."
      ],
      "metadata": {
        "id": "KR1umbo5gXZQ"
      }
    },
    {
      "cell_type": "code",
      "source": [
        "# Usiamo ora un filtro passa alto\n",
        "high_pass_filter = np.zeros(len(zero_jackson_rfft))\n",
        "high_pass_filter[500:] = 1\n",
        "plt.plot(high_pass_filter)"
      ],
      "metadata": {
        "id": "9IMdgW6ThRGy"
      },
      "execution_count": null,
      "outputs": []
    },
    {
      "cell_type": "code",
      "source": [
        "# Applichiamo il filtro al segnale\n",
        "zero_jackson_filtered = zero_jackson_rfft * high_pass_filter\n",
        "plt.plot(zero_jackson_filtered)"
      ],
      "metadata": {
        "id": "qYHLXB11h9eS"
      },
      "execution_count": null,
      "outputs": []
    },
    {
      "cell_type": "code",
      "source": [
        "# Ritorniamo al dominio del tempo e ascoltiamo il nuovo segnale audio\n",
        "zero_jackson_high_filtered_time = irfft(zero_jackson_filtered)\n",
        "ipd.Audio(zero_jackson_high_filtered_time, rate=zero_jackson_rate)"
      ],
      "metadata": {
        "id": "Mlm-polkhyeE"
      },
      "execution_count": null,
      "outputs": []
    },
    {
      "cell_type": "markdown",
      "source": [
        "Stessa cosa di prima, il suono di sente in modo più acuto ma preserva l'informazione acustica."
      ],
      "metadata": {
        "id": "_R4B9-BNiRAf"
      }
    },
    {
      "cell_type": "markdown",
      "source": [
        "# CONVOLUTION"
      ],
      "metadata": {
        "id": "zpoY97-_imYI"
      }
    },
    {
      "cell_type": "markdown",
      "source": [
        "Tratteremo il tema non in termini di deep NN, ma come strumento di applicazione di un filtro o kernel (matrice piu piccola) al segnale originale.\n",
        "Matematicamete si tratta di una moltiplicazione tra matrici, di cui una più piccola dell'altra.\n",
        "Il kernel \"scorrerà\" sul segnale."
      ],
      "metadata": {
        "id": "ANBl0cHfjKxq"
      }
    },
    {
      "cell_type": "code",
      "source": [
        "# Importiamo una nuova traccia\n",
        "five_nicolas_rate, five_nicolas_21 = wav.read(\"/content/drive/MyDrive/audio_unzipped/recordings/5_nicolas_21.wav\")"
      ],
      "metadata": {
        "id": "SKdLwII4ioPE"
      },
      "execution_count": null,
      "outputs": []
    },
    {
      "cell_type": "code",
      "source": [
        "# Ascoltiamo il segnale audio\n",
        "ipd.Audio(five_nicolas_21, rate=five_nicolas_rate)"
      ],
      "metadata": {
        "id": "uSQrEYKClFFg"
      },
      "execution_count": null,
      "outputs": []
    },
    {
      "cell_type": "code",
      "source": [
        "# !pip install pydub\n",
        "from pydub import AudioSegment\n",
        "\n",
        "# # # Reading .mp3 audio signals\n",
        "# hello = AudioSegment.from_mp3(\"/content/drive/MyDrive/hello.mp3\")\n",
        "# bang = AudioSegment.from_mp3(\"/content/drive/MyDrive/bang.mp3\")\n",
        "\n",
        "# # # Converting into .wav\n",
        "# hello.export(\"/content/drive/MyDrive/hello.wav\", format=\"wav\")\n",
        "# bang.export(\"/content/drive/MyDrive/bang.wav\", format=\"wav\")\n",
        "\n",
        "hello_rate, hello = wav.read(\"/content/drive/MyDrive/hello.wav\")"
      ],
      "metadata": {
        "id": "SUsyJX2jmFp0"
      },
      "execution_count": null,
      "outputs": []
    },
    {
      "cell_type": "code",
      "source": [
        "# ipd.Audio(hello, rate=hello_rate)\n",
        "print(type(hello))  # Dovrebbe essere <class 'numpy.ndarray'> o una lista di numeri\n",
        "print(hello.shape)\n"
      ],
      "metadata": {
        "id": "qRFa8gqYq0QN"
      },
      "execution_count": null,
      "outputs": []
    },
    {
      "cell_type": "code",
      "source": [
        "import IPython.display as ipd\n",
        "\n",
        "# Riproduci il file audio con il sample rate corretto\n",
        "ipd.Audio(hello, rate=hello_rate)"
      ],
      "metadata": {
        "id": "0ua0MWASsBcA"
      },
      "execution_count": null,
      "outputs": []
    }
  ]
}